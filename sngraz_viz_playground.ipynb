{
 "cells": [
  {
   "cell_type": "code",
   "execution_count": null,
   "metadata": {},
   "outputs": [],
   "source": [
    "from dotenv import load_dotenv\n",
    "from smartmeter_utils import get_sngraz, power_linechart_last_day, energy_barchart_over_days,power_linechart_last_day_with_history\n",
    "import os\n",
    "load_dotenv()\n",
    "SNGRAZ_EMAIL = os.getenv(\"SNGRAZ_EMAIL\")\n",
    "SNGRAZ_PASSWORD = os.getenv(\"SNGRAZ_PWD\")\n",
    "TIMEZONE = os.getenv(\"TIMEZONE\")\n"
   ]
  },
  {
   "cell_type": "code",
   "execution_count": null,
   "metadata": {},
   "outputs": [],
   "source": [
    "summaries = await get_sngraz(\n",
    "    sngraz_email=SNGRAZ_EMAIL, sngraz_pwd=SNGRAZ_PASSWORD, timezone=TIMEZONE\n",
    ")\n"
   ]
  },
  {
   "cell_type": "code",
   "execution_count": null,
   "metadata": {},
   "outputs": [],
   "source": [
    "power_linechart_last_day_with_history(summaries[0]).show()\n",
    "power_linechart_last_day(summaries[0]).show()\n",
    "energy_barchart_over_days(summaries[0]).show()"
   ]
  }
 ],
 "metadata": {
  "kernelspec": {
   "display_name": "smartmeter-telegram-bot-5PoQqzyv-py3.11",
   "language": "python",
   "name": "python3"
  },
  "language_info": {
   "codemirror_mode": {
    "name": "ipython",
    "version": 3
   },
   "file_extension": ".py",
   "mimetype": "text/x-python",
   "name": "python",
   "nbconvert_exporter": "python",
   "pygments_lexer": "ipython3",
   "version": "3.11.4"
  },
  "orig_nbformat": 4
 },
 "nbformat": 4,
 "nbformat_minor": 2
}
